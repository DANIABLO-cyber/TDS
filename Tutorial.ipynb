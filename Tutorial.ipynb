{
  "cells": [
    {
      "cell_type": "markdown",
      "id": "cb42f16b",
      "metadata": {},
      "source": [
        "# Resumen de Python\n",
        "\n",
        "Este cuaderno reúne ejemplos esenciales de Python:\n",
        "\n",
        "1. [Tipos de datos y operadores](#tipos-de-datos)\n",
        "2. [Estructuras de datos en Python](#estructuras-de-datos)\n",
        "3. [Entrada y salida (I/O)](#entrada-salida)\n",
        "4. [Control de flujo](#control-de-flujo)\n",
        "5. [Funciones](#funciones)\n",
        "6. [Módulos y bibliotecas](#modulos)\n",
        "7. [NumPy: vectores y matrices](#numpy)\n",
        "8. [Matplotlib: generación de gráficas](#matplotlib)\n",
        "9. [Sympy: cálculo simbólico](#sympy)\n"
      ]
    },
    {
      "cell_type": "markdown",
      "id": "19b0afd6",
      "metadata": {},
      "source": [
        "## 1. Tipos de datos y operadores <a id='tipos-de-datos'></a>\n",
        "\n",
        "Python dispone de varios tipos básicos:\n",
        "- **bool**: valores lógicos (`True` / `False`)\n",
        "- **int**: enteros\n",
        "- **float**: números reales en coma flotante\n",
        "- **complex**: números complejos (con la unidad imaginaria `j`)\n",
        "- **str**: cadenas de caracteres\n",
        "\n",
        "Además, cuenta con operadores aritméticos, lógicos y relacionales.\n",
        "\n",
        "### Operadores principales\n",
        "- Suma: `+`, Resta: `-`, Multiplicación: `*`, División: `/`\n",
        "- Potencia: `**`, División entera: `//`, Módulo: `%`\n",
        "- Comparaciones: `==`, `!=`, `>`, `<`, `>=`, `<=`\n",
        "- Lógicos: `and`, `or`, `not`\n",
        "\n",
        "Los operadores pueden usarse junto con la asignación (`+=`, `-=`, etc.) para modificar una variable en su lugar.\n"
      ]
    },
    {
      "cell_type": "code",
      "execution_count": 1,
      "id": "d3ba303c",
      "metadata": {},
      "outputs": [
        {
          "name": "stdout",
          "output_type": "stream",
          "text": [
            "Tipos de cada variable:\n",
            "<class 'bool'> True\n",
            "<class 'int'> 42\n",
            "<class 'float'> 3.14\n",
            "<class 'complex'> (4+3j)\n",
            "<class 'str'> Hola, mundo\n",
            "\n",
            "Operaciones con a=10 y b=3:\n",
            "Suma: 13\n",
            "Resta: 7\n",
            "Producto: 30\n",
            "División: 3.3333333333333335\n",
            "Potencia: 1000\n",
            "División entera: 3\n",
            "Módulo: 1\n"
          ]
        }
      ],
      "source": [
        "# Ejemplo de variables y operadores\n",
        "var_booleana = True\n",
        "num_entero   = 42\n",
        "num_real     = 3.14\n",
        "num_complejo = 4 + 3j\n",
        "cadena       = 'Hola, mundo'\n",
        "\n",
        "print('Tipos de cada variable:')\n",
        "print(type(var_booleana), var_booleana)\n",
        "print(type(num_entero),   num_entero)\n",
        "print(type(num_real),     num_real)\n",
        "print(type(num_complejo), num_complejo)\n",
        "print(type(cadena),       cadena)\n",
        "\n",
        "# Uso de operadores\n",
        "a, b = 10, 3\n",
        "suma = a + b        # 13\n",
        "resta = a - b       # 7\n",
        "producto = a * b    # 30\n",
        "division = a / b    # 3.333...\n",
        "potencia = a ** b   # 1000\n",
        "div_entera = a // b # 3\n",
        "modulo = a % b      # 1\n",
        "\n",
        "print('\\nOperaciones con a=10 y b=3:')\n",
        "print('Suma:', suma)\n",
        "print('Resta:', resta)\n",
        "print('Producto:', producto)\n",
        "print('División:', division)\n",
        "print('Potencia:', potencia)\n",
        "print('División entera:', div_entera)\n",
        "print('Módulo:', modulo)"
      ]
    },
    {
      "cell_type": "markdown",
      "id": "24fcc65c",
      "metadata": {},
      "source": [
        "## 2. Estructuras de datos en Python <a id='estructuras-de-datos'></a>\n",
        "\n",
        "Existen diversas colecciones integradas:\n",
        "- **Tupla** (`tuple`): ordenada, inmutable.\n",
        "- **Lista** (`list`): ordenada, mutable.\n",
        "- **Conjunto** (`set`): no ordenado, sin duplicados, mutable.\n",
        "- **Diccionario** (`dict`): no ordenado (en versiones recientes se conserva el orden de inserción), con pares `clave: valor`.\n",
        "\n",
        "**Indexación**: Tuplas y listas se indexan desde 0 y usan `[]`. Diccionarios se indexan por clave. \n",
        "**Slicing**: la sintaxis `inicio:fin:paso` permite extraer secciones de una lista, tupla o cadena.\n"
      ]
    },
    {
      "cell_type": "code",
      "execution_count": 2,
      "id": "2b7be8c1",
      "metadata": {},
      "outputs": [
        {
          "name": "stdout",
          "output_type": "stream",
          "text": [
            "Tupla: ('abc', 34, False)\n",
            "Lista: [6.66, 'hola', 45]\n",
            "Conjunto (no repite 12): {12, 95.5}\n",
            "Diccionario: {'A1': 75, 'A2': 6}\n",
            "\n",
            "Acceso en lista:\n",
            "Primer elemento: 6.66\n",
            "Último elemento: 45\n",
            "\n",
            "Slicing en lista2: [0, 1, 2, 3, 4, 5, 6, 7]\n",
            "lista2[2:6] = [2, 3, 4, 5]\n",
            "lista2[:4]  = [0, 1, 2, 3]\n",
            "lista2[::2] = [0, 2, 4, 6]\n",
            "\n",
            "Valor de A1 en diccionario: 75\n"
          ]
        }
      ],
      "source": [
        "# Ejemplos de estructuras de datos\n",
        "tupla      = ('abc', 34, False)\n",
        "lista      = [6.66, 'hola', 45]\n",
        "conjunto   = {12, 95.5, 12}  # el elemento duplicado (12) se ignora\n",
        "diccionario= {'A1': 75, 'A2': 6}\n",
        "\n",
        "print('Tupla:', tupla)\n",
        "print('Lista:', lista)\n",
        "print('Conjunto (no repite 12):', conjunto)\n",
        "print('Diccionario:', diccionario)\n",
        "\n",
        "# Acceso a elementos en lista\n",
        "print('\\nAcceso en lista:')\n",
        "print('Primer elemento:', lista[0])\n",
        "print('Último elemento:', lista[-1])\n",
        "\n",
        "# Slicing\n",
        "lista2 = [0,1,2,3,4,5,6,7]\n",
        "print('\\nSlicing en lista2:', lista2)\n",
        "print('lista2[2:6] =', lista2[2:6])\n",
        "print('lista2[:4]  =', lista2[:4])\n",
        "print('lista2[::2] =', lista2[::2])  # De 2 en 2\n",
        "\n",
        "# Acceso a diccionario\n",
        "print('\\nValor de A1 en diccionario:', diccionario['A1'])"
      ]
    },
    {
      "cell_type": "markdown",
      "id": "7cd51482",
      "metadata": {},
      "source": [
        "## 3. Entrada y salida (I/O) <a id='entrada-salida'></a>\n",
        "\n",
        "- **`input(...)`**: lee una cadena desde la consola.\n",
        "- **`print(...)`**: escribe en la consola.\n",
        "- Para formatear cadenas se recomienda **f-strings** (`f\"Mensaje {variable}\"`).\n"
      ]
    },
    {
      "cell_type": "code",
      "execution_count": null,
      "id": "b05f6150",
      "metadata": {},
      "outputs": [],
      "source": [
        "# Entrada y salida\n",
        "nombre = 'Daniel'\n",
        "edad = 25\n",
        "print('Hola', nombre, 'tienes', edad, 'años.')\n",
        "print(f'Hola {nombre}, tienes {edad} años.')\n",
        "\n",
        "# Descomenta estas líneas si deseas probar input() en un entorno interactivo:\n",
        "# nombre_usuario = input('Introduce tu nombre: ')\n",
        "# print(f'Hola, {nombre_usuario}!')"
      ]
    },
    {
      "cell_type": "markdown",
      "id": "6aa89cf9",
      "metadata": {},
      "source": [
        "## 4. Control de flujo <a id='control-de-flujo'></a>\n",
        "\n",
        "### `if / elif / else`\n",
        "```python\n",
        "if condicion:\n",
        "    # bloque\n",
        "elif otra_condicion:\n",
        "    # bloque\n",
        "else:\n",
        "    # bloque\n",
        "```\n",
        "\n",
        "### Bucles `for` y `while`\n",
        "- `for` recorre secuencias (listas, cadenas, etc.) o rangos numéricos.\n",
        "- `while` repite mientras la condición sea verdadera.\n"
      ]
    },
    {
      "cell_type": "code",
      "execution_count": 3,
      "id": "efcbcb21",
      "metadata": {},
      "outputs": [
        {
          "name": "stdout",
          "output_type": "stream",
          "text": [
            "Calificación: Notable\n",
            "Iteración 0\n",
            "Iteración 1\n",
            "Iteración 2\n",
            "Contador = 0\n",
            "Contador = 1\n",
            "Contador = 2\n"
          ]
        }
      ],
      "source": [
        "# Ejemplos de control de flujo\n",
        "nota = 7.5\n",
        "if nota < 5:\n",
        "    calificacion = 'Suspenso'\n",
        "elif nota < 7:\n",
        "    calificacion = 'Aprobado'\n",
        "elif nota < 9:\n",
        "    calificacion = 'Notable'\n",
        "else:\n",
        "    calificacion = 'Sobresaliente'\n",
        "print('Calificación:', calificacion)\n",
        "\n",
        "for i in range(3):\n",
        "    print('Iteración', i)\n",
        "\n",
        "contador = 0\n",
        "while contador < 3:\n",
        "    print('Contador =', contador)\n",
        "    contador += 1"
      ]
    },
    {
      "cell_type": "markdown",
      "id": "b6401dcd",
      "metadata": {},
      "source": [
        "## 5. Funciones <a id='funciones'></a>\n",
        "\n",
        "Se declaran con `def`. Se pueden definir **parámetros** con **valores por defecto**.\n",
        "```python\n",
        "def mi_funcion(param1, param2='valor_default'):\n",
        "    # bloque\n",
        "    return resultado\n",
        "```\n"
      ]
    },
    {
      "cell_type": "code",
      "execution_count": 7,
      "id": "91038828",
      "metadata": {},
      "outputs": [
        {
          "name": "stdout",
          "output_type": "stream",
          "text": [
            "Factorial de 4 = 24\n",
            "Suma: 15\n",
            "Resta: 5\n",
            "Multiplicación: 50\n",
            "División: 2.0\n"
          ]
        }
      ],
      "source": [
        "# Ejemplo de funciones\n",
        "def factorial(n):\n",
        "    \"\"\"Calcula el factorial de n (n!).\"\"\"\n",
        "    resultado = 1\n",
        "    for i in range(1, n+1):\n",
        "        resultado *= i\n",
        "    return resultado\n",
        "\n",
        "print('Factorial de 4 =', factorial(4))\n",
        "\n",
        "def operacion_aritmetica(oper1, oper2=1, oper='suma'):\n",
        "    \"\"\"Realiza una operación aritmética básica entre oper1 y oper2.\"\"\"\n",
        "    if oper == 'suma':\n",
        "        return oper1 + oper2\n",
        "    elif oper == 'resta':\n",
        "        return oper1 - oper2\n",
        "    elif oper == 'multiplica':\n",
        "        return oper1 * oper2\n",
        "    elif oper == 'divide' and oper2 != 0:\n",
        "        return oper1 / oper2\n",
        "    else:\n",
        "        return None\n",
        "\n",
        "print('Suma:', operacion_aritmetica(10, 5, 'suma'))\n",
        "print('Resta:', operacion_aritmetica(10, 5, 'resta'))\n",
        "print('Multiplicación:', operacion_aritmetica(10, 5, 'multiplica'))\n",
        "print('División:', operacion_aritmetica(10, 5, 'divide'))"
      ]
    },
    {
      "cell_type": "markdown",
      "id": "4d09c913",
      "metadata": {},
      "source": [
        "## 6. Módulos y bibliotecas <a id='modulos'></a>\n",
        "\n",
        "En Python, un archivo `.py` con funciones y variables puede considerarse un **módulo**:\n",
        "```python\n",
        "# archivo areas.py\n",
        "def area_cuadrado(lado):\n",
        "    return lado * lado\n",
        "```\n",
        "Para usarlo:\n",
        "```python\n",
        "import areas\n",
        "print(areas.area_cuadrado(5))\n",
        "```\n",
        "Se pueden usar alias con `import areas as ar`, o importar solo ciertos elementos con `from areas import area_cuadrado`.\n"
      ]
    },
    {
      "cell_type": "code",
      "execution_count": null,
      "id": "53bdfaa5",
      "metadata": {},
      "outputs": [],
      "source": [
        "# Supón que tenemos un archivo areas.py (en la misma carpeta) con:\n",
        "# def area_cuadrado(lado):\n",
        "#     return lado**2\n",
        "\n",
        "# En este notebook no podemos mostrar la importación a un archivo inexistente,\n",
        "# pero el uso sería así:\n",
        "\n",
        "# from areas import area_cuadrado\n",
        "# print(area_cuadrado(5))  # 25"
      ]
    },
    {
      "cell_type": "markdown",
      "id": "d3e7bd0b",
      "metadata": {},
      "source": [
        "## 7. NumPy: vectores y matrices <a id='numpy'></a>\n",
        "\n",
        "[NumPy](https://numpy.org/) proporciona estructuras de datos tipo array para cálculos vectoriales y matriciales. \n",
        "\n",
        "```python\n",
        "import numpy as np\n",
        "vector = np.array([1,2,3])\n",
        "```\n",
        "### Operaciones\n",
        "- Suma, resta, multiplicación o división elemento a elemento.\n",
        "- Producto escalar: `a @ b` o `np.dot(a, b)`.\n",
        "- Indexado y slicing igual que en listas, pero con más posibilidades (indexación booleana, etc.).\n"
      ]
    },
    {
      "cell_type": "code",
      "execution_count": 8,
      "id": "6f9f0402",
      "metadata": {},
      "outputs": [
        {
          "ename": "ModuleNotFoundError",
          "evalue": "No module named 'numpy'",
          "output_type": "error",
          "traceback": [
            "\u001b[1;31m---------------------------------------------------------------------------\u001b[0m",
            "\u001b[1;31mModuleNotFoundError\u001b[0m                       Traceback (most recent call last)",
            "Cell \u001b[1;32mIn[8], line 1\u001b[0m\n\u001b[1;32m----> 1\u001b[0m \u001b[38;5;28;01mimport\u001b[39;00m\u001b[38;5;250m \u001b[39m\u001b[38;5;21;01mnumpy\u001b[39;00m\u001b[38;5;250m \u001b[39m\u001b[38;5;28;01mas\u001b[39;00m\u001b[38;5;250m \u001b[39m\u001b[38;5;21;01mnp\u001b[39;00m\n\u001b[0;32m      3\u001b[0m \u001b[38;5;66;03m# Creación de arrays\u001b[39;00m\n\u001b[0;32m      4\u001b[0m vector \u001b[38;5;241m=\u001b[39m np\u001b[38;5;241m.\u001b[39marray([\u001b[38;5;241m1\u001b[39m, \u001b[38;5;241m3.1416\u001b[39m, \u001b[38;5;241m40\u001b[39m])\n",
            "\u001b[1;31mModuleNotFoundError\u001b[0m: No module named 'numpy'"
          ]
        }
      ],
      "source": [
        "import numpy as np\n",
        "\n",
        "# Creación de arrays\n",
        "vector = np.array([1, 3.1416, 40])\n",
        "matriz = np.array([[1,2],[3,4],[5,6]])\n",
        "print('Vector:', vector)\n",
        "print('Matriz:\\n', matriz)\n",
        "\n",
        "# Otras funciones\n",
        "print('\\nMatriz de ceros:\\n', np.zeros((2,3)))\n",
        "print('\\nMatriz de unos:\\n',  np.ones((2,2)))\n",
        "\n",
        "# Operaciones\n",
        "a = np.array([1,2,3])\n",
        "b = np.array([4,5,6])\n",
        "print('\\nSuma elemento a elemento:', a + b)\n",
        "print('Producto elemento a elemento:', a * b)\n",
        "print('Producto escalar:', a @ b)\n",
        "\n",
        "# Slicing y estadísticas\n",
        "m = np.array([[1,2,3],[4,5,6],[7,8,9]])\n",
        "print('\\nm =\\n', m)\n",
        "print('m[1, :] (2ª fila) =', m[1, :])\n",
        "print('Suma total m:', np.sum(m))\n",
        "print('Media total m:', np.mean(m))\n",
        "print('Suma por columnas:', np.sum(m, axis=0))\n",
        "print('Traspuesta:\\n', m.T)"
      ]
    },
    {
      "cell_type": "markdown",
      "id": "f8a9f021",
      "metadata": {},
      "source": [
        "## 8. Matplotlib: generación de gráficas <a id='matplotlib'></a>\n",
        "\n",
        "[Matplotlib](https://matplotlib.org/) es la biblioteca estándar de visualización en Python.\n",
        "\n",
        "```python\n",
        "import matplotlib.pyplot as plt\n",
        "x = np.linspace(-np.pi, np.pi, 100)\n",
        "y = np.sin(x)\n",
        "plt.plot(x, y)\n",
        "plt.show()\n",
        "```\n"
      ]
    },
    {
      "cell_type": "code",
      "execution_count": 13,
      "id": "a4a4ce34",
      "metadata": {},
      "outputs": [
        {
          "data": {
            "image/png": "[encoded data removed]",
            "text/plain": [
              "<Figure size 640x480 with 1 Axes>"
            ]
          },
          "metadata": {},
          "output_type": "display_data"
        }
      ],
      "source": [
        "import math\n",
        "import matplotlib.pyplot as plt\n",
        "\n",
        "# Generar valores de x entre -pi y pi\n",
        "x = [i * 0.01 for i in range(-314, 315)]\n",
        "# Generar valores de y usando la función sin\n",
        "y = [math.sin(i) for i in x]\n",
        "\n",
        "plt.plot(x, y, label='Seno')\n",
        "plt.title('Función sin(x)')\n",
        "plt.xlabel('Eje x')\n",
        "plt.ylabel('Eje y')\n",
        "plt.legend()\n",
        "plt.grid(True)\n",
        "plt.show()"
      ]
    },
    {
      "cell_type": "markdown",
      "id": "c9a6954b",
      "metadata": {},
      "source": [
        "## 9. Sympy: cálculo simbólico <a id='sympy'></a>\n",
        "\n",
        "[Sympy](https://www.sympy.org/) permite cálculo simbólico (derivadas, integrales, simplificaciones). \n",
        "\n",
        "```python\n",
        "import sympy as sym\n",
        "alpha = sym.Symbol('alpha')\n",
        "expr = sym.sin(alpha)**2 + sym.cos(alpha)**2\n",
        "expr_simpl = expr.simplify()\n",
        "print(expr_simpl)  # da 1\n",
        "```\n"
      ]
    },
    {
      "cell_type": "code",
      "execution_count": null,
      "id": "91feebb7",
      "metadata": {},
      "outputs": [],
      "source": [
        "import sympy as sym\n",
        "\n",
        "# Variables simbólicas\n",
        "alpha = sym.Symbol('alpha', real=True)\n",
        "beta  = sym.Symbol('beta', real=True)\n",
        "\n",
        "# Expresión simbólica\n",
        "expr = sym.sin(alpha)**2 + sym.cos(alpha)**2\n",
        "print('Expresión original:', expr)\n",
        "print('Simplificada:', expr.simplify())\n",
        "\n",
        "# Sustitución\n",
        "expr2 = sym.sin(alpha + beta)\n",
        "expr2_subs = expr2.subs(alpha, sym.pi/2)\n",
        "print('\\nExpr2 original:', expr2)\n",
        "print('Expr2 sustituyendo alpha=pi/2:', expr2_subs)\n",
        "print('Simplificado:', expr2_subs.simplify())"
      ]
    },
    {
      "cell_type": "markdown",
      "id": "73cb9cc8",
      "metadata": {},
      "source": [
        "---\n",
        "### Fin del resumen\n",
        "Con este cuaderno tienes ejemplos clave de **Python**, abarcando el lenguaje, sus estructuras, la visualización de datos con **Matplotlib**, el uso de **NumPy** para cálculos en vectors y matrices, y un vistazo al **cálculo simbólico** con **Sympy**.\n",
        "\n",
        "¡Disfruta aprendiendo y practicando con estos ejemplos!"
      ]
    }
  ],
  "metadata": {
    "kernelspec": {
      "display_name": "TDS",
      "language": "python",
      "name": "python3"
    },
    "language_info": {
      "codemirror_mode": {
        "name": "ipython",
        "version": 3
      },
      "file_extension": ".py",
      "mimetype": "text/x-python",
      "name": "python",
      "nbconvert_exporter": "python",
      "pygments_lexer": "ipython3",
      "version": "3.13.2"
    }
  },
  "nbformat": 4,
  "nbformat_minor": 5
}
