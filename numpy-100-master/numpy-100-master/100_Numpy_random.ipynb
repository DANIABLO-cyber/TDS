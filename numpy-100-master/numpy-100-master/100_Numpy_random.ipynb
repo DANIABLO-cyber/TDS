{
 "cells": [
  {
   "cell_type": "markdown",
   "id": "ea6cbc4b",
   "metadata": {},
   "source": [
    "# 100 numpy exercises\n",
    "\n",
    "This is a collection of exercises that have been collected in the numpy mailing list, on stack overflow\n",
    "and in the numpy documentation. The goal of this collection is to offer a quick reference for both old\n",
    "and new users but also to provide a set of exercises for those who teach.\n",
    "\n",
    "\n",
    "If you find an error or think you've a better way to solve some of them, feel\n",
    "free to open an issue at <https://github.com/rougier/numpy-100>."
   ]
  },
  {
   "cell_type": "markdown",
   "id": "354a533b",
   "metadata": {},
   "source": [
    "File automatically generated. See the documentation to update questions/answers/hints programmatically."
   ]
  },
  {
   "cell_type": "markdown",
   "id": "9efa41bf",
   "metadata": {},
   "source": [
    "Run the `initialize.py` module, then call a random question with `pick()` an hint towards its solution with\n",
    "`hint(n)` and the answer with `answer(n)`, where n is the number of the picked question."
   ]
  },
  {
   "cell_type": "code",
   "execution_count": 21,
   "id": "1a6e8fdb",
   "metadata": {},
   "outputs": [
    {
     "name": "stdout",
     "output_type": "stream",
     "text": [
      "Nothing done.\n"
     ]
    }
   ],
   "source": [
    "%reset\n",
    "%run initialise.py\n",
    "\n",
    "import importlib\n",
    "importlib.reload(ge)\n",
    "\n",
    "import numpy as np\n"
   ]
  },
  {
   "cell_type": "code",
   "execution_count": 22,
   "id": "df09154d",
   "metadata": {},
   "outputs": [
    {
     "data": {
      "text/html": [
       "\n",
       "    <style>\n",
       "    /* Ajusta el fondo y el texto en los encabezados y contenido del Accordion */\n",
       "    .dark-accordion .accordion-header,\n",
       "    .dark-accordion .accordion-content,\n",
       "    .dark-accordion .p-Accordion-child {\n",
       "        background-color: #2c313a !important;\n",
       "        color: #fff !important;\n",
       "        border: none !important;\n",
       "    }\n",
       "    /* Hover sobre el encabezado del Accordion */\n",
       "    .dark-accordion .accordion-header:hover {\n",
       "        background-color: #222 !important;\n",
       "    }\n",
       "    </style>\n",
       "    "
      ],
      "text/plain": [
       "<IPython.core.display.HTML object>"
      ]
     },
     "metadata": {},
     "output_type": "display_data"
    },
    {
     "data": {
      "text/markdown": [
       "# ❓ Pregunta 2\n",
       "\n",
       "Muestra las dimensiones (ndim) de un array creado con los valores `[[9.0, 8.0, 7.0],[6.0, 5.0, 4.0]]`. (★☆☆) <br><br>"
      ],
      "text/plain": [
       "<IPython.core.display.Markdown object>"
      ]
     },
     "metadata": {},
     "output_type": "display_data"
    },
    {
     "data": {
      "application/vnd.jupyter.widget-view+json": {
       "model_id": "f5e0eb00cb5546238439f813a58c233a",
       "version_major": 2,
       "version_minor": 0
      },
      "text/plain": [
       "Accordion(children=(Output(), Output()), titles=('Pista', 'Solución'), _dom_classes=('dark-accordion',))"
      ]
     },
     "metadata": {},
     "output_type": "display_data"
    },
    {
     "data": {
      "application/javascript": "\n    if (typeof Jupyter !== \"undefined\" && Jupyter.notebook) {\n        var new_cell = Jupyter.notebook.insert_cell_below('code');\n        new_cell.set_text(\"# Escribe tu respuesta aquí...\");\n        Jupyter.notebook.select_next();\n    } else {\n        console.warn(\"No se detecta el entorno Jupyter Notebook clásico. No se puede crear la celda.\");\n    }\n    ",
      "text/plain": [
       "<IPython.core.display.Javascript object>"
      ]
     },
     "metadata": {},
     "output_type": "display_data"
    }
   ],
   "source": [
    "pick_interactive()"
   ]
  },
  {
   "cell_type": "code",
   "execution_count": 23,
   "id": "cbe874b7",
   "metadata": {},
   "outputs": [
    {
     "ename": "NameError",
     "evalue": "name 'SDFSSDAD' is not defined",
     "output_type": "error",
     "traceback": [
      "\u001b[31m---------------------------------------------------------------------------\u001b[39m",
      "\u001b[31mNameError\u001b[39m                                 Traceback (most recent call last)",
      "\u001b[36mCell\u001b[39m\u001b[36m \u001b[39m\u001b[32mIn[23]\u001b[39m\u001b[32m, line 1\u001b[39m\n\u001b[32m----> \u001b[39m\u001b[32m1\u001b[39m \u001b[43mSDFSSDAD\u001b[49m\n",
      "\u001b[31mNameError\u001b[39m: name 'SDFSSDAD' is not defined"
     ]
    }
   ],
   "source": [
    "SDFSSDAD"
   ]
  }
 ],
 "metadata": {
  "kernelspec": {
   "display_name": "Sistemas_Codif_Almacenamiento",
   "language": "python",
   "name": "python3"
  },
  "language_info": {
   "codemirror_mode": {
    "name": "ipython",
    "version": 3
   },
   "file_extension": ".py",
   "mimetype": "text/x-python",
   "name": "python",
   "nbconvert_exporter": "python",
   "pygments_lexer": "ipython3",
   "version": "3.13.2"
  }
 },
 "nbformat": 4,
 "nbformat_minor": 5
}
