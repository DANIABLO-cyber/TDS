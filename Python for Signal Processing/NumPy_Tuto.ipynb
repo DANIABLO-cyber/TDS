{
 "cells": [
  {
   "cell_type": "markdown",
   "id": "8f1f0dbb",
   "metadata": {},
   "source": [
    "___\n",
    "# Tutorial NumPy\n",
    "___"
   ]
  },
  {
   "cell_type": "markdown",
   "id": "9d4a4231",
   "metadata": {},
   "source": [
    "### CREATING ARRAYS"
   ]
  },
  {
   "cell_type": "code",
   "execution_count": 45,
   "id": "069c8249",
   "metadata": {},
   "outputs": [
    {
     "name": "stdout",
     "output_type": "stream",
     "text": [
      "1D array: \n",
      " a=\n",
      " [1 2 3]\n",
      "\n",
      "2D array:\n",
      " b=\n",
      " [[1 2 3]\n",
      " [4 5 6]]\n",
      "\n",
      "3D array:\n",
      " c=\n",
      " [[[1 2]\n",
      "  [3 4]]\n",
      "\n",
      " [[5 6]\n",
      "  [7 8]]]\n",
      "\n",
      "Dimensiones de a: 1\n",
      "Dimensiones de b: 2\n",
      "Dimensiones de c: 3\n",
      "Forma de c: (2, 2, 2)\n",
      "\n",
      "Array con ndmin=4:\n",
      " [[[[10 20 30]]]]\n",
      "Forma: (1, 1, 1, 3)\n",
      "Dimensiones: 4\n",
      "\n",
      "Tipo de objeto de a: <class 'numpy.ndarray'>\n",
      "Forma de b (2D): (2, 3)\n"
     ]
    }
   ],
   "source": [
    "import numpy as np\n",
    "\n",
    "# Crear un array 1D desde una lista\n",
    "a = np.array([1, 2, 3])\n",
    "print(\"1D array: \\n a=\\n\", a)\n",
    "\n",
    "# Crear un array 2D (matriz)\n",
    "b = np.array([[1, 2, 3], [4, 5, 6]])\n",
    "print(\"\\n2D array:\\n b=\\n\", b)\n",
    "\n",
    "# Crear un array 3D\n",
    "c = np.array([[[1, 2], [3, 4]], [[5, 6], [7, 8]]])\n",
    "print(\"\\n3D array:\\n c=\\n\", c)\n",
    "\n",
    "# Verificar el número de dimensiones\n",
    "print(\"\\nDimensiones de a:\", a.ndim)\n",
    "print(\"Dimensiones de b:\", b.ndim)\n",
    "print(\"Dimensiones de c:\", c.ndim)\n",
    "print(\"Forma de c:\", c.shape)\n",
    "\n",
    "# Forzar número mínimo de dimensiones con ndmin\n",
    "d = np.array([10, 20, 30], ndmin=4)\n",
    "print(\"\\nArray con ndmin=4:\\n\", d)\n",
    "print(\"Forma:\", d.shape)\n",
    "print(\"Dimensiones:\", d.ndim)\n",
    "\n",
    "# Confirmar que es un objeto ndarray\n",
    "print(\"\\nTipo de objeto de a:\", type(a))  # <class 'numpy.ndarray'>\n",
    "\n",
    "# Ver forma (shape)\n",
    "print(\"Forma de b (2D):\", b.shape)\n"
   ]
  },
  {
   "cell_type": "markdown",
   "id": "fdce02ba",
   "metadata": {},
   "source": [
    "### ARRAY INDEXING"
   ]
  },
  {
   "cell_type": "code",
   "execution_count": 46,
   "id": "22391c25",
   "metadata": {},
   "outputs": [
    {
     "name": "stdout",
     "output_type": "stream",
     "text": [
      "30\n",
      "40\n",
      "6\n",
      "8\n",
      "(4,) (2, 3) (2, 2, 2)\n"
     ]
    }
   ],
   "source": [
    "# 1D Indexing\n",
    "a = np.array([10, 20, 30, 40])\n",
    "print(a[2])           # acceso directo\n",
    "print(a[-1])          # último\n",
    "\n",
    "# 2D Indexing\n",
    "b = np.array([[1, 2, 3], [4, 5, 6]])\n",
    "print(b[1, -1])       # última columna, segunda fila\n",
    "b[0, 0] = 99\n",
    "\n",
    "# 3D Indexing\n",
    "c = np.array([[[1, 2], [3, 4]], [[5, 6], [7, 8]]])\n",
    "print(c[1, 1, 1])     # bloque 1, fila 1, col 1\n",
    "\n",
    "# Verificación rápida\n",
    "print(a.shape, b.shape, c.shape)\n"
   ]
  },
  {
   "cell_type": "markdown",
   "id": "f4bb6932",
   "metadata": {},
   "source": [
    "### ARRAY SLICING"
   ]
  },
  {
   "cell_type": "code",
   "execution_count": 47,
   "id": "29a62855",
   "metadata": {},
   "outputs": [
    {
     "name": "stdout",
     "output_type": "stream",
     "text": [
      "[20 30 40]\n",
      "[10 20 30]\n",
      "[40 50 60]\n",
      "[40 50]\n",
      "[10 30 50]\n",
      "[20 40 60]\n",
      "[[2 3]\n",
      " [6 7]]\n",
      "[5 7]\n"
     ]
    }
   ],
   "source": [
    "a = np.array([10, 20, 30, 40, 50, 60])\n",
    "\n",
    "# Básico\n",
    "print(a[1:4])      # [20 30 40]\n",
    "print(a[:3])       # [10 20 30]\n",
    "print(a[3:])       # [40 50 60]\n",
    "print(a[-3:-1])    # [40 50]\n",
    "\n",
    "# Con step\n",
    "print(a[::2])      # [10 30 50]\n",
    "print(a[1::2])     # [20 40 60]\n",
    "\n",
    "# 2D slicing\n",
    "b = np.array([[1,2,3,4],[5,6,7,8]])\n",
    "\n",
    "print(b[:, 1:3])   # columnas 1 y 2, todas las filas\n",
    "print(b[1, ::2])   # fila 1, columnas impares\n"
   ]
  },
  {
   "cell_type": "markdown",
   "id": "89242be8",
   "metadata": {},
   "source": [
    "### DATA TYPES"
   ]
  },
  {
   "cell_type": "code",
   "execution_count": 48,
   "id": "1778028d",
   "metadata": {},
   "outputs": [
    {
     "name": "stdout",
     "output_type": "stream",
     "text": [
      "int64\n",
      "float32 bool complex128\n",
      "[1. 2. 3.] float64\n",
      "[1 2] int64\n"
     ]
    }
   ],
   "source": [
    "# Inferencia automática de tipo\n",
    "a = np.array([1, 2, 3])\n",
    "print(a.dtype)  # int64 (o int32 según sistema)\n",
    "\n",
    "# Crear con tipo específico\n",
    "b = np.array([1.0, 2.0], dtype='float32')\n",
    "c = np.array([1, 0, 1], dtype='bool')\n",
    "d = np.array([1, 2, 3], dtype='complex')\n",
    "\n",
    "# Conversión de tipo\n",
    "e = a.astype('float64')\n",
    "f = b.astype('int')\n",
    "\n",
    "# Mostrar tipos\n",
    "print(b.dtype, c.dtype, d.dtype)\n",
    "print(e, e.dtype)\n",
    "print(f, f.dtype)\n"
   ]
  },
  {
   "cell_type": "markdown",
   "id": "b3f90d16",
   "metadata": {},
   "source": [
    "### COPY VS VIEW\n"
   ]
  },
  {
   "cell_type": "code",
   "execution_count": null,
   "id": "a3796e94",
   "metadata": {},
   "outputs": [
    {
     "name": "stdout",
     "output_type": "stream",
     "text": [
      "a (view modifica): [999  20  30]\n",
      "a (copy NO modifica): [999  20  30]\n",
      "c: [999 777  30]\n",
      "view base is a? True\n",
      "copy base is a? False\n",
      "b owns data? True\n",
      "c owns data? False\n"
     ]
    }
   ],
   "source": [
    "a = np.array([10, 20, 30])\n",
    "\n",
    "# View (referencia a la misma memoria)\n",
    "v = a.view()\n",
    "v[0] = 999\n",
    "print(\"a (view modifica):\", a)  # [999 20 30]\n",
    "\n",
    "# Copy (copia independiente)\n",
    "c = a.copy()\n",
    "c[1] = 777\n",
    "print(\"a (copy NO modifica):\", a)  # [999 20 30]\n",
    "print(\"c:\", c)                     # [999 777 30]\n",
    "\n",
    "# Comprobación de relación, .base apunta al array original\n",
    "print(\"view base is a?\", v.base is a)  # True → vista\n",
    "print(\"copy base is a?\", c.base is a)  # False\n",
    "\n",
    "#! Ejemplo de vista y copia de ¡indexing y slicing!\n",
    "a = np.array([[10, 20, 30], [40, 50, 60]])\n",
    "\n",
    "b = a[:, :2]         # vista\n",
    "c = a[:, [0, 1]]     # copia\n",
    "\n",
    "print(\"b owns data?\", b.base is a)  # True → vista\n",
    "print(\"c owns data?\", c.base is a)  # False → copia\n"
   ]
  },
  {
   "cell_type": "markdown",
   "id": "63cf2b47",
   "metadata": {},
   "source": [
    "### ARRAY SHAPE"
   ]
  },
  {
   "cell_type": "code",
   "execution_count": 50,
   "id": "a0bffd16",
   "metadata": {},
   "outputs": [
    {
     "name": "stdout",
     "output_type": "stream",
     "text": [
      "(2, 4)\n"
     ]
    }
   ],
   "source": [
    "import numpy as np\n",
    "\n",
    "arr = np.array([[1, 2, 3, 4], [5, 6, 7, 8]])\n",
    "\n",
    "print(arr.shape) "
   ]
  },
  {
   "cell_type": "markdown",
   "id": "2da93f81",
   "metadata": {},
   "source": [
    "### ARRAY RESHAPE"
   ]
  },
  {
   "cell_type": "code",
   "execution_count": 137,
   "id": "ea886e87",
   "metadata": {},
   "outputs": [
    {
     "name": "stdout",
     "output_type": "stream",
     "text": [
      "b=\n",
      " [[1 2 3]\n",
      " [4 5 6]]\n",
      "c=\n",
      " [[[1 2 3]]\n",
      "\n",
      " [[4 5 6]]]\n",
      "d=\n",
      " [[1 2]\n",
      " [3 4]\n",
      " [5 6]]\n",
      "e=\n",
      " [1 2 3 4 5 6]\n",
      "\n",
      "Is view? True\n"
     ]
    }
   ],
   "source": [
    "# Reshape básico: 1D a 2D\n",
    "a = np.array([1, 2, 3, 4, 5, 6])\n",
    "b = a.reshape((2, 3))   # 2 filas, 3 columnas\n",
    "print(\"b=\\n\", b)\n",
    "\n",
    "# Reshape a 3D: 1D → 2x1x3\n",
    "c = a.reshape((2, 1, 3))\n",
    "print(\"c=\\n\", c)\n",
    "\n",
    "# Usar -1 para calcular dimensión automáticamente\n",
    "d = a.reshape((3, -1))  # 3 filas, auto columnas\n",
    "print(\"d=\\n\", d)\n",
    "\n",
    "# Convertir d a filas\n",
    "e = d.reshape(-1)\n",
    "print(\"e=\\n\", e) \n",
    "\n",
    "# Verificar que no se copia (es una vista si es posible)\n",
    "print(\"\\nIs view?\", d.base is a)\n",
    "\n",
    "\n",
    "\n"
   ]
  },
  {
   "cell_type": "markdown",
   "id": "211a97f0",
   "metadata": {},
   "source": [
    "### ARRAY ITERATING"
   ]
  },
  {
   "cell_type": "code",
   "execution_count": 86,
   "id": "ad76d824",
   "metadata": {},
   "outputs": [
    {
     "name": "stdout",
     "output_type": "stream",
     "text": [
      "Fila: [1 2 3]\n",
      "Fila: [4 5 6]\n",
      "Columna: [1 4]\n",
      "Columna: [2 5]\n",
      "Columna: [3 6]\n",
      "Columna 0: [1 4]\n",
      "Columna 1: [2 5]\n",
      "Columna 2: [3 6]\n",
      "Valor: 1\n",
      "Valor: 2\n",
      "Valor: 3\n",
      "Valor: 4\n",
      "Valor: 5\n",
      "Valor: 6\n",
      "Elemento: 1\n",
      "Elemento: 2\n",
      "Elemento: 3\n",
      "Elemento: 4\n",
      "Elemento: 5\n",
      "Elemento: 6\n",
      "Índice (0, 0) → Valor 1\n",
      "Índice (0, 1) → Valor 2\n",
      "Índice (0, 2) → Valor 3\n",
      "Índice (1, 0) → Valor 4\n",
      "Índice (1, 1) → Valor 5\n",
      "Índice (1, 2) → Valor 6\n"
     ]
    }
   ],
   "source": [
    "a = np.array([[1, 2, 3], \n",
    "              [4, 5, 6]])\n",
    "\n",
    "# Iterar sobre filas (por defecto) y columnas\n",
    "for row in a:\n",
    "    print(\"Fila:\", row)\n",
    "\n",
    "# Para columnas\n",
    "for col in a.T: # -> Entonces iteras por columnas como si fueran filas.\n",
    "    print(\"Columna:\", col)\n",
    "# O bien\n",
    "for j in range(a.shape[1]):  # número de columnas\n",
    "    print(f\"Columna {j}:\", a[:, j])\n",
    "\n",
    "\n",
    "# Iterar sobre cada elemento (nested loop)\n",
    "for row in a:\n",
    "    for val in row:\n",
    "        print(\"Valor:\", val)\n",
    "\n",
    "# Mejor: iterar sobre todos los elementos directamente (1D view)\n",
    "for val in np.nditer(a): # a.ravel() es lo mismo -> Recorre todos los elementos del array sin importar la forma o dimensión.\n",
    "    print(\"Elemento:\", val)\n",
    "\n",
    "# Iterar con índice usando ndenumerate\n",
    "for idx, val in np.ndenumerate(a): # Recorre todos los elementos, igual que nditer, pero además te da el índice en una tupla.\n",
    "    print(f\"Índice {idx} → Valor {val}\")\n"
   ]
  },
  {
   "cell_type": "markdown",
   "id": "c68e26a4",
   "metadata": {},
   "source": [
    "### ARRAY JOIN"
   ]
  },
  {
   "cell_type": "code",
   "execution_count": 156,
   "id": "06251c47",
   "metadata": {},
   "outputs": [
    {
     "name": "stdout",
     "output_type": "stream",
     "text": [
      "Concatenate:\n",
      " [1 2 3 4 5 6]\n",
      "Stack axis=0:\n",
      " [[1 2 3]\n",
      " [4 5 6]]\n",
      "Stack axis=1:\n",
      " [[1 4]\n",
      " [2 5]\n",
      " [3 6]]\n",
      "vstack:\n",
      " [[1 2 3]\n",
      " [4 5 6]]\n",
      "hstack:\n",
      " [1 2 3 4 5 6]\n",
      "column_stack:\n",
      " [[1 4]\n",
      " [2 5]\n",
      " [3 6]]\n",
      "Concat eje 0:\n",
      " [[1 2]\n",
      " [3 4]\n",
      " [5 6]\n",
      " [7 8]]\n",
      "Concat eje 1:\n",
      " [[1 2 5 6]\n",
      " [3 4 7 8]]\n",
      "Append: [1 2 3 4]\n",
      "Append múltiple: [1 2 3 5 6]\n",
      "Insert 99 en pos 1: [ 1 99  2  3]\n",
      "Insert múltiple: [100   1   2 200   3]\n",
      "Append fila:\n",
      " [[1 2]\n",
      " [3 4]\n",
      " [5 6]]\n",
      "Insert columna:\n",
      " [[1 9 2]\n",
      " [3 9 4]]\n"
     ]
    }
   ],
   "source": [
    "# Arrays base\n",
    "a = np.array([1, 2, 3])\n",
    "b = np.array([4, 5, 6])\n",
    "c = np.array([[1, 2], [3, 4]])\n",
    "d = np.array([[5, 6], [7, 8]])\n",
    "\n",
    "#! Concatenar 1D\n",
    "# 1. Concatenar 1D → 1D\n",
    "print(\"Concatenate:\\n\", np.concatenate((a, b)))  # → [1 2 3 4 5 6]\n",
    "\n",
    "# 2. Stack 1D con nueva dimensión\n",
    "print(\"Stack axis=0:\\n\", np.stack((a, b), axis=0))  # shape (2, 3)\n",
    "print(\"Stack axis=1:\\n\", np.stack((a, b), axis=1))  # shape (3, 2)\n",
    "\n",
    "# 3. Vertical y horizontal stack\n",
    "print(\"vstack:\\n\", np.vstack((a, b)))     # (2, 3)\n",
    "print(\"hstack:\\n\", np.hstack((a, b)))       # (6,)\n",
    "\n",
    "# 4. Column_stack: perfecto para arrays 1D\n",
    "print(\"column_stack:\\n\", np.column_stack((a, b)))  # shape (3, 2)\n",
    "\n",
    "#! Concatenar 2D\n",
    "# 5. Concatenación 2D en distintos ejes\n",
    "print(\"Concat eje 0:\\n\", np.concatenate((c, d), axis=0))  # stack filas\n",
    "print(\"Concat eje 1:\\n\", np.concatenate((c, d), axis=1))  # stack columnas\n",
    "\n",
    "#! Append y insert\n",
    "a = np.array([1, 2, 3])\n",
    "\n",
    "# Append: añade al final\n",
    "print(\"Append:\", np.append(a, 4))         # [1 2 3 4]\n",
    "print(\"Append múltiple:\", np.append(a, [5, 6]))  # [1 2 3 5 6]\n",
    "\n",
    "# Insert: inserta en posición\n",
    "print(\"Insert 99 en pos 1:\", np.insert(a, 1, 99))      # [1 99 2 3]\n",
    "print(\"Insert múltiple:\", np.insert(a, [0, 2], [100, 200]))  # [100 1 2 200 3]\n",
    "\n",
    "# En 2D\n",
    "m = np.array([[1, 2], [3, 4]])\n",
    "print(\"Append fila:\\n\", np.append(m, [[5, 6]], axis=0))\n",
    "print(\"Insert columna:\\n\", np.insert(m, 1, [9, 9], axis=1))\n",
    "\n"
   ]
  },
  {
   "cell_type": "markdown",
   "id": "ba3fa275",
   "metadata": {},
   "source": [
    "### ARRAY SPLIT"
   ]
  },
  {
   "cell_type": "code",
   "execution_count": 88,
   "id": "002ea0db",
   "metadata": {},
   "outputs": [
    {
     "name": "stdout",
     "output_type": "stream",
     "text": [
      "Split 1D en 3 partes:\n",
      "Parte 1: [1 2]\n",
      "Parte 2: [3 4]\n",
      "Parte 3: [5 6]\n",
      "\n",
      "Split 1D en 4 partes:\n",
      "Parte 1: [1 2]\n",
      "Parte 2: [3 4]\n",
      "Parte 3: [5]\n",
      "Parte 4: [6]\n",
      "\n",
      "Split 2D horizontal (columnas) con hsplit:\n",
      "Columna 1:\n",
      "[[1 2]\n",
      " [5 6]]\n",
      "Columna 2:\n",
      "[[3 4]\n",
      " [7 8]]\n",
      "\n",
      "Split 2D vertical (filas) con vsplit:\n",
      "Fila 1:\n",
      "[[1 2 3 4]]\n",
      "Fila 2:\n",
      "[[5 6 7 8]]\n"
     ]
    }
   ],
   "source": [
    "\n",
    "#! -------- 1D SPLITTING --------\n",
    "a = np.array([1, 2, 3, 4, 5, 6])\n",
    "\n",
    "# Divide en 3 partes (iguales)\n",
    "split_equal = np.array_split(a, 3)\n",
    "print(\"Split 1D en 3 partes:\")\n",
    "for i, part in enumerate(split_equal):\n",
    "    print(f\"Parte {i+1}:\", part)\n",
    "\n",
    "# Divide en 4 partes (no iguales)\n",
    "split_unequal = np.array_split(a, 4)\n",
    "print(\"\\nSplit 1D en 4 partes:\")\n",
    "for i, part in enumerate(split_unequal):\n",
    "    print(f\"Parte {i+1}:\", part)\n",
    "\n",
    "#! -------- 2D SPLITTING --------\n",
    "b = np.array([[1, 2, 3, 4],\n",
    "              [5, 6, 7, 8]])\n",
    "\n",
    "print(\"\\nSplit 2D horizontal (columnas) con hsplit:\")\n",
    "hs = np.hsplit(b, 2)  # divide en 2 bloques de columnas\n",
    "for i, col in enumerate(hs):\n",
    "    print(f\"Columna {i+1}:\\n{col}\")\n",
    "\n",
    "print(\"\\nSplit 2D vertical (filas) con vsplit:\")\n",
    "vs = np.vsplit(b, 2)  # divide en 2 bloques de filas\n",
    "for i, row in enumerate(vs):\n",
    "    print(f\"Fila {i+1}:\\n{row}\")\n"
   ]
  },
  {
   "cell_type": "markdown",
   "id": "27259c16",
   "metadata": {},
   "source": [
    "### ARRAY SEARCH"
   ]
  },
  {
   "cell_type": "code",
   "execution_count": 152,
   "id": "0303a6f8",
   "metadata": {},
   "outputs": [
    {
     "name": "stdout",
     "output_type": "stream",
     "text": [
      "Índices donde a == 4: [3 5 6]\n",
      "Índices de pares: [1 3 5 6]\n",
      "Mayores que 3: [3 4 5 6]\n",
      "Primer índice de 4: [3 5 6]\n"
     ]
    }
   ],
   "source": [
    "a = np.array([1, 2, 3, 4, 5, 4, 4])\n",
    "\n",
    "# 1. Buscar posiciones donde el valor es igual a 4\n",
    "indices = np.where(a == 4)           #! np.where devuelve una tupla con los índices de cada dimensión\n",
    "print(\"Índices donde a == 4:\", indices[0])  # → [3 5 6]  \n",
    "        \n",
    "# 2. Buscar múltiplos de 2\n",
    "even_indices = np.where(a % 2 == 0)\n",
    "print(\"Índices de pares:\", even_indices[0])  # → [1 3 5 6]\n",
    "\n",
    "# 3. Buscar valores mayores que 3\n",
    "greater = np.where(a > 3)\n",
    "print(\"Mayores que 3:\", greater[0])  # → [3 4 5 6]\n",
    "\n",
    "# 6. Buscar primer índice de un valor (más controlado)\n",
    "first_index = np.where(a == 4)[0]\n",
    "print(\"Primer índice de 4:\", first_index)  # → 3"
   ]
  },
  {
   "cell_type": "markdown",
   "id": "20a1fd9a",
   "metadata": {},
   "source": [
    "### ARRAY SORT"
   ]
  },
  {
   "cell_type": "code",
   "execution_count": 132,
   "id": "102211ef",
   "metadata": {},
   "outputs": [
    {
     "name": "stdout",
     "output_type": "stream",
     "text": [
      "Ordenado (1D): [1 2 3]\n",
      "Ordenado (strings): ['apple' 'banana' 'cherry']\n",
      "Ordenado (bool): [False  True  True]\n",
      "🔹 Original:\n",
      "[[ 9  2  7  1]\n",
      " [ 5  8  6  3]\n",
      " [ 4  0  2 10]]\n",
      "\n",
      "🔹 Ordenado por filas (axis=1):\n",
      "[[ 1  2  7  9]\n",
      " [ 3  5  6  8]\n",
      " [ 0  2  4 10]]\n",
      "\n",
      "🔹 Ordenado por columnas (axis=0):\n",
      "[[ 4  0  2  1]\n",
      " [ 5  2  6  3]\n",
      " [ 9  8  7 10]]\n"
     ]
    }
   ],
   "source": [
    "\n",
    "#! Ordenar array 1D\n",
    "a = np.array([3, 1, 2])\n",
    "sorted_a = np.sort(a)\n",
    "print(\"Ordenado (1D):\", sorted_a)  # → [1 2 3]\n",
    "\n",
    "# Ordenar array de strings\n",
    "b = np.array(['banana', 'apple', 'cherry'])\n",
    "print(\"Ordenado (strings):\", np.sort(b))  # → ['apple' 'banana' 'cherry']\n",
    "\n",
    "# Ordenar array booleano\n",
    "c = np.array([True, False, True])\n",
    "print(\"Ordenado (bool):\", np.sort(c))  # → [False  True  True]\n",
    "\n",
    "# !Array 2D\n",
    "# Ordenar por filas y columnas\n",
    "m = np.array([\n",
    "    [9, 2, 7, 1],\n",
    "    [5, 8, 6, 3],\n",
    "    [4, 0, 2, 10]\n",
    "])\n",
    "\n",
    "print(\"🔹 Original:\")\n",
    "print(m)\n",
    "\n",
    "# Ordenar por filas (axis=1)\n",
    "sorted_by_row = np.sort(m, axis=1)\n",
    "print(\"\\n🔹 Ordenado por filas (axis=1):\")\n",
    "print(sorted_by_row)\n",
    "\n",
    "# Ordenar por columnas (axis=0)\n",
    "sorted_by_col = np.sort(m, axis=0)\n",
    "print(\"\\n🔹 Ordenado por columnas (axis=0):\")\n",
    "print(sorted_by_col)"
   ]
  },
  {
   "cell_type": "markdown",
   "id": "dc0b961a",
   "metadata": {},
   "source": [
    "### ARRAY FILTER"
   ]
  },
  {
   "cell_type": "code",
   "execution_count": 153,
   "id": "44213d4b",
   "metadata": {},
   "outputs": [
    {
     "name": "stdout",
     "output_type": "stream",
     "text": [
      "Filtro manual: [10 20 30]\n",
      "Valores > 20: [25 30]\n",
      "Entre 10 y 30: [15 20 25]\n",
      "Matriz > 3: [4 5 6]\n"
     ]
    }
   ],
   "source": [
    "\n",
    "# Array base\n",
    "arr = np.array([10, 15, 20, 25, 30])\n",
    "\n",
    "# 1. Filtro con máscara booleana manual\n",
    "mask = [True, False, True, False, True]\n",
    "print(\"Filtro manual:\", arr[mask])  # [10 20 30]\n",
    "\n",
    "# 2. Filtro con condición (más útil)\n",
    "filtered = arr[arr > 20]\n",
    "print(\"Valores > 20:\", filtered)    # [25 30]\n",
    "\n",
    "# 3. Condiciones múltiples con operadores lógicos\n",
    "filtered_multi = arr[(arr > 10) & (arr < 30)]\n",
    "print(\"Entre 10 y 30:\", filtered_multi)  # [15 20 25]\n",
    "\n",
    "# 4. Filtro en matriz 2D\n",
    "mat = np.array([[1, 2, 3],\n",
    "                [4, 5, 6]])\n",
    "\n",
    "print(\"Matriz > 3:\", mat[mat > 3])  # [4 5 6]\n"
   ]
  },
  {
   "cell_type": "markdown",
   "id": "9a086632",
   "metadata": {},
   "source": [
    "___"
   ]
  },
  {
   "cell_type": "code",
   "execution_count": 1,
   "id": "fa1cd537",
   "metadata": {},
   "outputs": [
    {
     "name": "stdout",
     "output_type": "stream",
     "text": [
      "[[1. 1. 1.]\n",
      " [1. 1. 1.]\n",
      " [1. 1. 1.]] \n",
      "\n",
      "[[1. 1. 1. 1.]\n",
      " [1. 1. 1. 1.]\n",
      " [1. 1. 1. 1.]] \n",
      "\n",
      "[[1. 1. 1. 1. 1.]\n",
      " [1. 1. 1. 1. 1.]\n",
      " [1. 1. 1. 1. 1.]] \n",
      "\n",
      "[[1. 1. 1. 1. 1.]\n",
      " [1. 1. 1. 1. 1.]\n",
      " [1. 1. 1. 1. 1.]\n",
      " [1. 1. 1. 1. 1.]] \n",
      "\n",
      "(4, 5)\n"
     ]
    }
   ],
   "source": [
    "import numpy as np\n",
    "\n",
    "# Crear una matriz 3x3 de unos\n",
    "x = np.ones((3, 3))\n",
    "print(x, \"\\n\")  \n",
    "\n",
    "# Agregar una cuarta columna de unos (nueva columna a la derecha)\n",
    "x = np.hstack((x, np.ones((3, 1))))\n",
    "print(x, \"\\n\")\n",
    "\n",
    "# Agregar una quinta columna de unos (otra columna a la derecha)\n",
    "x = np.hstack((x, np.ones((3, 1))))\n",
    "print(x, \"\\n\")\n",
    "\n",
    "# Agregar una nueva fila de unos (nueva fila en la parte inferior)\n",
    "x = np.vstack((x, np.ones((1, x.shape[1]))))\n",
    "print(x, \"\\n\")\n",
    "\n",
    "# Mostrar el tamaño final de la matriz\n",
    "print(x.shape)"
   ]
  },
  {
   "cell_type": "code",
   "execution_count": 149,
   "id": "80e9a782",
   "metadata": {},
   "outputs": [
    {
     "name": "stdout",
     "output_type": "stream",
     "text": [
      "[[ 0  1  2  2]\n",
      " [ 3  4  5  6]\n",
      " [ 7  8  9 10]]\n"
     ]
    }
   ],
   "source": [
    "\n",
    "#! Test\n",
    "a = np.array([\n",
    "    [9, 2, 7, 1],\n",
    "    [5, 8, 6, 3],\n",
    "    [4, 0, 2, 10]\n",
    "])\n",
    "# Aplanar el array\n",
    "a_flat = a.reshape(-1) # = a.flatten()\n",
    "a_flat_sorted = np.sort(a_flat)\n",
    "\n",
    "a_sorted = a_flat_sorted.reshape(a.shape)\n",
    "print(a_sorted)\n"
   ]
  },
  {
   "cell_type": "code",
   "execution_count": null,
   "id": "0256914c",
   "metadata": {},
   "outputs": [
    {
     "name": "stdout",
     "output_type": "stream",
     "text": [
      "x:\n",
      " [[99.  1.  1.]\n",
      " [ 1.  1.  1.]\n",
      " [ 1.  1.  1.]]\n",
      "y:\n",
      " [[1. 1. 1. 1.]\n",
      " [1. 1. 1. 1.]\n",
      " [1. 1. 1. 1.]]\n"
     ]
    }
   ],
   "source": [
    "x = np.array([[1, 2, 3],\n",
    "              [4, 5, 6]])\n",
    "\n",
    "y = x[:, [0, 1]]  # indexación (copia)\n",
    "\n",
    "y[0, 0] = 999\n",
    "\n",
    "print(\"x:\\n\", x)\n",
    "print(\"y:\\n\", y)\n"
   ]
  },
  {
   "cell_type": "code",
   "execution_count": 21,
   "id": "06bb7bbc",
   "metadata": {},
   "outputs": [
    {
     "name": "stdout",
     "output_type": "stream",
     "text": [
      "[[1. 2. 3.]\n",
      " [4. 5. 6.]\n",
      " [7. 8. 9.]]\n"
     ]
    }
   ],
   "source": [
    "A = np.array([[1, 2, 3],\n",
    "                [4, 5, 6],\n",
    "                [7, 8, 9]])\n",
    "x = np.eye(3)  # Crear una matriz columna de unos\n",
    "# Multiplicar matrices\n",
    "result = A @ x\n",
    "\n",
    "print(result)\n"
   ]
  },
  {
   "cell_type": "code",
   "execution_count": 27,
   "id": "cd9ccfbf",
   "metadata": {},
   "outputs": [
    {
     "data": {
      "image/png": "[encoded data removed]",
      "text/plain": [
       "<Figure size 600x500 with 2 Axes>"
      ]
     },
     "metadata": {},
     "output_type": "display_data"
    }
   ],
   "source": [
    "import numpy as np\n",
    "import matplotlib.pyplot as plt\n",
    "\n",
    "# Crear vectores base\n",
    "x = np.linspace(-3, 3, 100)\n",
    "y = np.linspace(-3, 3, 100)\n",
    "\n",
    "# Crear la malla con meshgrid (forma tradicional)\n",
    "X, Y = np.meshgrid(x, y)  # X, Y ambos con shape (100, 100)\n",
    "\n",
    "# Calcular la función de onda\n",
    "Z = np.sin(np.sqrt(X**2 + Y**2))  # onda circular radial\n",
    "\n",
    "# Graficar con imshow\n",
    "plt.figure(figsize=(6, 5))\n",
    "plt.imshow(Z, extent=[x.min(), x.max(), y.min(), y.max()], origin='lower', cmap='viridis')\n",
    "plt.colorbar(label='Amplitude')\n",
    "plt.title('Visualización de onda 2D con meshgrid')\n",
    "plt.xlabel('x')\n",
    "plt.ylabel('y')\n",
    "plt.grid(False)\n",
    "plt.show()\n"
   ]
  },
  {
   "cell_type": "code",
   "execution_count": null,
   "id": "e9ff2ffa",
   "metadata": {},
   "outputs": [
    {
     "name": "stdout",
     "output_type": "stream",
     "text": [
      "[1 2 3 4 5 4 4]\n",
      "truncado es  [0 0 0]\n",
      "truncado es  [4 0 0]\n",
      "truncado es  [4 4 0]\n",
      "truncado es  [4 4 4]\n",
      "\n",
      "\n",
      "\n",
      "truncado es  [4 4 4]\n"
     ]
    }
   ],
   "source": [
    "\n",
    "#! TEST\n",
    "a = np.array([1, 2, 3, 4, 5, 4, 4])\n",
    "a == 4\n",
    "print(a)\n",
    "\n",
    "truncado = np.zeros(np.where(a == 4)[0].shape[0], dtype=int)\n",
    "print(\"truncado es \", truncado)\n",
    "\n",
    "for i, idx in enumerate(np.where(a == 4)[0]):\n",
    "    truncado[i] = a[idx]\n",
    "    print(\"truncado es \", truncado)\n",
    "    \n",
    "# Alternativa más sencilla\n",
    "print(\"\\n\\n\")\n",
    "truncado = a[a == 4]\n",
    "print(\"truncado es \", truncado)\n",
    "    "
   ]
  }
 ],
 "metadata": {
  "kernelspec": {
   "display_name": "signalproc3",
   "language": "python",
   "name": "python3"
  },
  "language_info": {
   "codemirror_mode": {
    "name": "ipython",
    "version": 3
   },
   "file_extension": ".py",
   "mimetype": "text/x-python",
   "name": "python",
   "nbconvert_exporter": "python",
   "pygments_lexer": "ipython3",
   "version": "3.11.11"
  }
 },
 "nbformat": 4,
 "nbformat_minor": 5
}
