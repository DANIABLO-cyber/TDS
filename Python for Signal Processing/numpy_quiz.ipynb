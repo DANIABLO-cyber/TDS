{
 "cells": [
  {
   "cell_type": "markdown",
   "id": "36082cdd",
   "metadata": {},
   "source": [
    "# 🧠 NumPy Mastery Quiz\n",
    "Responde cada pregunta directamente en las celdas de código. ¡Buena suerte!"
   ]
  },
  {
   "cell_type": "markdown",
   "id": "331044c3",
   "metadata": {},
   "source": [
    "## 1. Indexación\n",
    "Extrae el valor `30` del array `arr = np.array([10, 20, 30, 40])`."
   ]
  },
  {
   "cell_type": "code",
   "execution_count": 1,
   "id": "0e3d8886",
   "metadata": {},
   "outputs": [
    {
     "name": "stdout",
     "output_type": "stream",
     "text": [
      "30\n",
      "30\n"
     ]
    }
   ],
   "source": [
    "import numpy as np\n",
    "arr = np.array([10, 20, 30, 40])\n",
    "# Tu código aquí\n",
    "\n",
    "valor30 = arr[2]\n",
    "print(valor30)\n",
    "\n",
    "valor30 = arr[-2]\n",
    "print(valor30)"
   ]
  },
  {
   "cell_type": "markdown",
   "id": "cc4a8e19",
   "metadata": {},
   "source": [
    "## 2. Slicing\n",
    "Usa slicing para obtener `[20, 30]` del array anterior."
   ]
  },
  {
   "cell_type": "code",
   "execution_count": 3,
   "id": "2b410d48",
   "metadata": {},
   "outputs": [
    {
     "name": "stdout",
     "output_type": "stream",
     "text": [
      "[20 30]\n"
     ]
    }
   ],
   "source": [
    "# Tu código aquí\n",
    "a = arr[1:3]\n",
    "print(a)"
   ]
  },
  {
   "cell_type": "markdown",
   "id": "d660b66a",
   "metadata": {},
   "source": [
    "## 3. Dtype\n",
    "Crea un array de enteros, pero con tipo de dato float32."
   ]
  },
  {
   "cell_type": "code",
   "execution_count": 5,
   "id": "2db22a92",
   "metadata": {},
   "outputs": [
    {
     "name": "stdout",
     "output_type": "stream",
     "text": [
      "[10. 20. 30. 40.] float32\n"
     ]
    }
   ],
   "source": [
    "# Tu código aquí\n",
    "arr = np.array([10, 20, 30, 40], dtype=np.float32)\n",
    "print(arr, arr.dtype)"
   ]
  },
  {
   "cell_type": "markdown",
   "id": "1eccea19",
   "metadata": {},
   "source": [
    "## 4. Copy vs View\n",
    "Crea una copia y una vista del array `a = np.array([1, 2, 3])`. Modifica ambas y muestra si afectan al original."
   ]
  },
  {
   "cell_type": "code",
   "execution_count": 7,
   "id": "3bd26621",
   "metadata": {},
   "outputs": [
    {
     "name": "stdout",
     "output_type": "stream",
     "text": [
      "[1 2 3] int8\n",
      "[1 2 3] int8\n",
      "[1 2 3] int8\n",
      "[1 2 3] int8\n",
      "[10  2  3] int8\n",
      "[1 2 3] int8\n"
     ]
    }
   ],
   "source": [
    "# Tu código aquí\n",
    "a = np.array([1, 2, 3], dtype=np.int8)\n",
    "copia = a.copy()\n",
    "vista = a.view()\n",
    "print(a, a.dtype)\n",
    "print(copia, copia.dtype)\n",
    "print(vista, vista.dtype)\n",
    "\n",
    "copia[0] = 10\n",
    "#vista[0] = 10\n",
    "\n",
    "print(a, a.dtype)\n",
    "print(copia, copia.dtype)\n",
    "print(vista, vista.dtype)"
   ]
  },
  {
   "cell_type": "markdown",
   "id": "afd5129a",
   "metadata": {},
   "source": [
    "## 5. Array Shape\n",
    "Crea un array 3x2 y muestra su forma con `.shape` y número de dimensiones con `.ndim`."
   ]
  },
  {
   "cell_type": "code",
   "execution_count": 11,
   "id": "72042931",
   "metadata": {},
   "outputs": [
    {
     "name": "stdout",
     "output_type": "stream",
     "text": [
      "[[1 3]\n",
      " [1 3]\n",
      " [2 3]]\n",
      "(3, 2)\n",
      "2\n"
     ]
    }
   ],
   "source": [
    "# Tu código aquí\n",
    "arr = np.array([[1, 3], [1, 3], [2, 3]])\n",
    "print(arr)\n",
    "\n",
    "print(arr.shape)\n",
    "print(arr.ndim)"
   ]
  },
  {
   "cell_type": "markdown",
   "id": "1f00a089",
   "metadata": {},
   "source": [
    "## 6. Reshape\n",
    "Transforma un array 1D de 6 elementos en uno 2D de 2x3."
   ]
  },
  {
   "cell_type": "code",
   "execution_count": 14,
   "id": "c73faba3",
   "metadata": {},
   "outputs": [
    {
     "name": "stdout",
     "output_type": "stream",
     "text": [
      "[1 2 3 4 5 6]\n",
      "[[1 2 3]\n",
      " [4 5 6]]\n"
     ]
    }
   ],
   "source": [
    "# Tu código aquí\n",
    "arr = np.array([1, 2, 3, 4, 5, 6])\n",
    "print(arr)\n",
    "\n",
    "#transdormarlo en una matriz de 2x3\n",
    "arr = arr.reshape(2, 3)\n",
    "print(arr)"
   ]
  },
  {
   "cell_type": "markdown",
   "id": "c00102a6",
   "metadata": {},
   "source": [
    "## 7. Broadcasting\n",
    "Suma un array `x = np.array([0, 1])` con `y = np.array([[10], [20], [30]])` usando broadcasting."
   ]
  },
  {
   "cell_type": "code",
   "execution_count": 15,
   "id": "ced2f451",
   "metadata": {},
   "outputs": [
    {
     "name": "stdout",
     "output_type": "stream",
     "text": [
      "(2,)\n",
      "(3, 1)\n",
      "[[10 11]\n",
      " [20 21]\n",
      " [30 31]]\n"
     ]
    }
   ],
   "source": [
    "# Tu código aquí\n",
    "#Suma un array `x = np.array([0, 1])` con `y = np.array([[10], [20], [30]])` usando broadcasting.\n",
    "x = np.array([0, 1])\n",
    "y = np.array([[10], [20], [30]])\n",
    "print(x.shape)\n",
    "print(y.shape)\n",
    "print(x + y)\n"
   ]
  },
  {
   "cell_type": "markdown",
   "id": "420c8ebf",
   "metadata": {},
   "source": [
    "## 8. Data Casting\n",
    "Convierte un array float en uno entero usando `.astype()`."
   ]
  },
  {
   "cell_type": "code",
   "execution_count": null,
   "id": "a9cb7808",
   "metadata": {},
   "outputs": [],
   "source": [
    "# Tu código aquí"
   ]
  },
  {
   "cell_type": "markdown",
   "id": "5964ca94",
   "metadata": {},
   "source": [
    "## 9. Indexación 2D\n",
    "Accede al número 7 del siguiente array:\n",
    "```python\n",
    "np.array([[1,2,3], [4,5,6], [7,8,9]])```"
   ]
  },
  {
   "cell_type": "code",
   "execution_count": 18,
   "id": "613c9081",
   "metadata": {},
   "outputs": [
    {
     "name": "stdout",
     "output_type": "stream",
     "text": [
      "[[1 2 3]\n",
      " [4 5 6]\n",
      " [7 8 9]]\n",
      "7\n"
     ]
    }
   ],
   "source": [
    "# Tu código aquí\n",
    "# # np.array([[1,2,3], [4,5,6], [7,8,9]])```\n",
    "\n",
    "arr = np.array([[1, 2, 3], [4, 5, 6], [7, 8, 9]])\n",
    "print(arr)\n",
    "\n",
    "Numero7 = arr[2, 0]\n",
    "print(Numero7)"
   ]
  },
  {
   "cell_type": "markdown",
   "id": "6e2789c9",
   "metadata": {},
   "source": [
    "## 10. Extra (Avanzado)\n",
    "Explica con una línea de comentario cuándo usarías `.copy()` y cuándo `.view()`."
   ]
  },
  {
   "cell_type": "code",
   "execution_count": null,
   "id": "45313925",
   "metadata": {},
   "outputs": [],
   "source": [
    "# Tu comentario aquí"
   ]
  }
 ],
 "metadata": {
  "kernelspec": {
   "display_name": "signalproc3",
   "language": "python",
   "name": "python3"
  },
  "language_info": {
   "codemirror_mode": {
    "name": "ipython",
    "version": 3
   },
   "file_extension": ".py",
   "mimetype": "text/x-python",
   "name": "python",
   "nbconvert_exporter": "python",
   "pygments_lexer": "ipython3",
   "version": "3.11.11"
  }
 },
 "nbformat": 4,
 "nbformat_minor": 5
}
