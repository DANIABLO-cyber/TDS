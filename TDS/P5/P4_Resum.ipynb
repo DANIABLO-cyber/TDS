{
 "cells": [
  {
   "cell_type": "markdown",
   "id": "6381bdb9",
   "metadata": {},
   "source": [
    "\n",
    "\n",
    "<h1 style=\"color: orange;\">PRÁCTICA 5</h1>\n",
    "\n"
   ]
  },
  {
   "cell_type": "markdown",
   "id": "6e192a9a",
   "metadata": {},
   "source": [
    "<hr style=\"border: 1.5px solid orange;\">\n",
    "\n",
    "<h1 style=\"color: orange;\">ACTIVIDAD 1</h1>\n",
    "\n",
    "<hr style=\"border: 1.5px solid orange;\">\n",
    "\n",
    "Calcular la SNR obtenida sin cancelación del eco\n",
    "\n",
    "La SNR entre una señal $x(n)$ y una distorsión aditiva de la misma $d(n)$ se computa como:\n",
    "\n",
    "$$\n",
    "\\mathrm{SNR} = 10 \\log_{10} \\left( \\frac{\\sum_n x^2(n)}{\\sum_n d^2(n)} \\right)\n",
    "$$\n",
    "\n",
    "En nuestro caso, la señal $x(n)$ sería la **señal local** que se quiere transmitir, y la distorsión es $d(n) = y(n) - x(n)$, donde $y(n)$ es la señal que se transmite finalmente (en este caso sin cancelación, $y(n)$ corresponde a `signal`).\n"
   ]
  },
  {
   "cell_type": "code",
   "execution_count": null,
   "id": "65dccb56",
   "metadata": {},
   "outputs": [],
   "source": [
    "import numpy as np\n",
    "import matplotlib.pyplot as plt\n",
    "from skimage import io, color, util\n",
    "import scipy.ndimage as ndi\n",
    "from scipy import signal\n"
   ]
  }
 ],
 "metadata": {
  "kernelspec": {
   "display_name": "Sistemas_Codif_Almacenamiento",
   "language": "python",
   "name": "python3"
  },
  "language_info": {
   "codemirror_mode": {
    "name": "ipython",
    "version": 3
   },
   "file_extension": ".py",
   "mimetype": "text/x-python",
   "name": "python",
   "nbconvert_exporter": "python",
   "pygments_lexer": "ipython3",
   "version": "3.13.2"
  }
 },
 "nbformat": 4,
 "nbformat_minor": 5
}
